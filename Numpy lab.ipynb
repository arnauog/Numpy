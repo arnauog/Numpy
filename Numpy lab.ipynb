{
 "cells": [
  {
   "cell_type": "code",
   "execution_count": 188,
   "metadata": {},
   "outputs": [],
   "source": [
    "#1. Import the NUMPY package under the name np.\n",
    "\n",
    "#[your code here]\n",
    "import numpy as np"
   ]
  },
  {
   "cell_type": "code",
   "execution_count": 189,
   "metadata": {},
   "outputs": [
    {
     "name": "stdout",
     "output_type": "stream",
     "text": [
      "Version: 1.26.4\n"
     ]
    }
   ],
   "source": [
    "#2. Print the NUMPY version and the configuration.\n",
    "\n",
    "print(f\"Version: {np.__version__}\")"
   ]
  },
  {
   "cell_type": "code",
   "execution_count": 190,
   "metadata": {},
   "outputs": [
    {
     "name": "stdout",
     "output_type": "stream",
     "text": [
      "Build Dependencies:\n",
      "  blas:\n",
      "    detection method: pkgconfig\n",
      "    found: true\n",
      "    include directory: C:/Users/Arnaldur/anaconda3/envs/original/Library/include\n",
      "    lib directory: C:/Users/Arnaldur/anaconda3/envs/original/Library/lib\n",
      "    name: mkl-sdl\n",
      "    openblas configuration: unknown\n",
      "    pc file directory: C:\\b\\abs_c1ywpu18ar\\croot\\numpy_and_numpy_base_1708638681471\\_h_env\\Library\\lib\\pkgconfig\n",
      "    version: '2023.1'\n",
      "  lapack:\n",
      "    detection method: internal\n",
      "    found: true\n",
      "    include directory: unknown\n",
      "    lib directory: unknown\n",
      "    name: dep1583119523984\n",
      "    openblas configuration: unknown\n",
      "    pc file directory: unknown\n",
      "    version: 1.26.4\n",
      "Compilers:\n",
      "  c:\n",
      "    commands: cl.exe\n",
      "    linker: link\n",
      "    name: msvc\n",
      "    version: 19.29.30154\n",
      "  c++:\n",
      "    commands: cl.exe\n",
      "    linker: link\n",
      "    name: msvc\n",
      "    version: 19.29.30154\n",
      "  cython:\n",
      "    commands: cython\n",
      "    linker: cython\n",
      "    name: cython\n",
      "    version: 3.0.8\n",
      "Machine Information:\n",
      "  build:\n",
      "    cpu: x86_64\n",
      "    endian: little\n",
      "    family: x86_64\n",
      "    system: windows\n",
      "  host:\n",
      "    cpu: x86_64\n",
      "    endian: little\n",
      "    family: x86_64\n",
      "    system: windows\n",
      "Python Information:\n",
      "  path: C:\\b\\abs_c1ywpu18ar\\croot\\numpy_and_numpy_base_1708638681471\\_h_env\\python.exe\n",
      "  version: '3.12'\n",
      "SIMD Extensions:\n",
      "  baseline:\n",
      "  - SSE\n",
      "  - SSE2\n",
      "  - SSE3\n",
      "  found:\n",
      "  - SSSE3\n",
      "  - SSE41\n",
      "  - POPCNT\n",
      "  - SSE42\n",
      "  - AVX\n",
      "  - F16C\n",
      "  - FMA3\n",
      "  - AVX2\n",
      "  not found:\n",
      "  - AVX512F\n",
      "  - AVX512CD\n",
      "  - AVX512_SKX\n",
      "  - AVX512_CLX\n",
      "  - AVX512_CNL\n",
      "  - AVX512_ICL\n",
      "\n"
     ]
    }
   ],
   "source": [
    "np.show_config()"
   ]
  },
  {
   "cell_type": "code",
   "execution_count": 191,
   "metadata": {},
   "outputs": [
    {
     "name": "stdout",
     "output_type": "stream",
     "text": [
      "[[[1 0 2 9 7]\n",
      "  [1 1 0 0 4]\n",
      "  [4 3 9 1 5]]\n",
      "\n",
      " [[5 9 2 5 1]\n",
      "  [1 6 1 9 3]\n",
      "  [6 8 7 1 2]]]\n"
     ]
    }
   ],
   "source": [
    "#3. Generate a 2x3x5 3-dimensional array with random values. Assign the array to variable \"a\"\n",
    "# Challenge: there are at least three easy ways that use numpy to generate random arrays. How many ways can you find?\n",
    "\n",
    "# the first one is generating random integers specifying the range and the size of the array\n",
    "\n",
    "a = np.random.randint(10, size=(2, 3, 5))\n",
    "\n",
    "#4. Print a.\n",
    "print(a)"
   ]
  },
  {
   "cell_type": "code",
   "execution_count": 192,
   "metadata": {},
   "outputs": [
    {
     "name": "stdout",
     "output_type": "stream",
     "text": [
      "30\n",
      "size = 30\n"
     ]
    }
   ],
   "source": [
    "# the second one is generating random floats (between 0 and 1) specifying the number of elements\n",
    "# we need to find out the size first\n",
    "\n",
    "print(np.size(a))\n",
    "\n",
    "# or we can also do that:\n",
    "size = 2*3*5\n",
    "print(f\"size = {size}\")"
   ]
  },
  {
   "cell_type": "code",
   "execution_count": 217,
   "metadata": {},
   "outputs": [
    {
     "data": {
      "text/plain": [
       "array([0.32, 0.76, 0.73, 0.64, 0.61, 0.67, 0.79, 0.28, 0.21, 0.12, 0.03,\n",
       "       0.52, 0.01, 0.72, 0.2 , 0.9 , 0.5 , 0.49, 0.05, 0.45, 0.13, 0.66,\n",
       "       0.9 , 0.93, 0.69, 0.98, 0.39, 0.97, 0.38, 0.27])"
      ]
     },
     "execution_count": 217,
     "metadata": {},
     "output_type": "execute_result"
    }
   ],
   "source": [
    "# now we generate the array with the 30 random floats between 0 and 1\n",
    "\n",
    "afloat = np.random.random(30)\n",
    "afloat_round = np.round(afloat, 2)\n",
    "afloat_round\n"
   ]
  },
  {
   "cell_type": "code",
   "execution_count": 218,
   "metadata": {},
   "outputs": [
    {
     "data": {
      "text/plain": [
       "array([[[0.32, 0.76, 0.73, 0.64, 0.61],\n",
       "        [0.67, 0.79, 0.28, 0.21, 0.12],\n",
       "        [0.03, 0.52, 0.01, 0.72, 0.2 ]],\n",
       "\n",
       "       [[0.9 , 0.5 , 0.49, 0.05, 0.45],\n",
       "        [0.13, 0.66, 0.9 , 0.93, 0.69],\n",
       "        [0.98, 0.39, 0.97, 0.38, 0.27]]])"
      ]
     },
     "execution_count": 218,
     "metadata": {},
     "output_type": "execute_result"
    }
   ],
   "source": [
    "# we have a vector of 30 elements, so we have to reshape it to the desired size\n",
    "\n",
    "a2 = np.reshape(afloat_round, (2,3,5))\n",
    "\n",
    "#4. Print a.\n",
    "a2"
   ]
  },
  {
   "cell_type": "code",
   "execution_count": 219,
   "metadata": {},
   "outputs": [
    {
     "data": {
      "text/plain": [
       "array([[[ 8.4 ,  1.86, 10.17,  5.53,  2.84],\n",
       "        [ 5.78,  6.36,  9.37,  8.26,  9.13],\n",
       "        [ 2.18,  7.8 ,  3.93,  2.25,  9.11]],\n",
       "\n",
       "       [[ 3.82,  8.28, 10.04,  7.83,  2.42],\n",
       "        [10.83,  7.63,  8.  ,  4.39,  1.07],\n",
       "        [ 1.58,  9.33,  4.54,  1.16,  7.64]]])"
      ]
     },
     "execution_count": 219,
     "metadata": {},
     "output_type": "execute_result"
    }
   ],
   "source": [
    "# the third way is to create a random array of floats between 2 specificed values\n",
    "\n",
    "a3 = np.round(np.random.uniform(1,11, (2,3,5)), 2)\n",
    "a3"
   ]
  },
  {
   "cell_type": "code",
   "execution_count": 220,
   "metadata": {},
   "outputs": [
    {
     "data": {
      "text/plain": [
       "array([[[1, 1, 1],\n",
       "        [1, 1, 1]],\n",
       "\n",
       "       [[1, 1, 1],\n",
       "        [1, 1, 1]],\n",
       "\n",
       "       [[1, 1, 1],\n",
       "        [1, 1, 1]],\n",
       "\n",
       "       [[1, 1, 1],\n",
       "        [1, 1, 1]],\n",
       "\n",
       "       [[1, 1, 1],\n",
       "        [1, 1, 1]]])"
      ]
     },
     "execution_count": 220,
     "metadata": {},
     "output_type": "execute_result"
    }
   ],
   "source": [
    "#5. Create a 5x2x3 3-dimensional array with all values equaling 1.\n",
    "#Assign the array to variable \"b\"\n",
    "\n",
    "b = np.ones((5,2,3), dtype=int)\n",
    "\n",
    "#6. Print b.\n",
    "b"
   ]
  },
  {
   "cell_type": "code",
   "execution_count": 221,
   "metadata": {},
   "outputs": [
    {
     "data": {
      "text/plain": [
       "True"
      ]
     },
     "execution_count": 221,
     "metadata": {},
     "output_type": "execute_result"
    }
   ],
   "source": [
    "#7. Do a and b have the same size? How do you prove that in Python code?\n",
    "\n",
    "np.size(a) == np.size(b)"
   ]
  },
  {
   "cell_type": "code",
   "execution_count": 222,
   "metadata": {},
   "outputs": [
    {
     "name": "stdout",
     "output_type": "stream",
     "text": [
      "(2, 3, 5)\n",
      "(5, 2, 3)\n"
     ]
    }
   ],
   "source": [
    "#8. Are you able to add a and b? Why or why not?\n",
    "\n",
    "# No, because their shapes are different\n",
    "\n",
    "print(np.shape(a))\n",
    "print(np.shape(b))"
   ]
  },
  {
   "cell_type": "code",
   "execution_count": 223,
   "metadata": {},
   "outputs": [
    {
     "data": {
      "text/plain": [
       "array([[[1, 1, 1, 1, 1],\n",
       "        [1, 1, 1, 1, 1],\n",
       "        [1, 1, 1, 1, 1]],\n",
       "\n",
       "       [[1, 1, 1, 1, 1],\n",
       "        [1, 1, 1, 1, 1],\n",
       "        [1, 1, 1, 1, 1]]])"
      ]
     },
     "execution_count": 223,
     "metadata": {},
     "output_type": "execute_result"
    }
   ],
   "source": [
    "#9. Transpose b so that it has the same structure of a (i.e. become a 2x3x5 array). Assign the transposed array to varialbe \"c\".\n",
    "\n",
    "c = np.reshape(b, (2,3,5))\n",
    "c"
   ]
  },
  {
   "cell_type": "code",
   "execution_count": 224,
   "metadata": {},
   "outputs": [
    {
     "data": {
      "text/plain": [
       "array([[[1, 0, 2, 9, 7],\n",
       "        [1, 1, 0, 0, 4],\n",
       "        [4, 3, 9, 1, 5]],\n",
       "\n",
       "       [[5, 9, 2, 5, 1],\n",
       "        [1, 6, 1, 9, 3],\n",
       "        [6, 8, 7, 1, 2]]])"
      ]
     },
     "execution_count": 224,
     "metadata": {},
     "output_type": "execute_result"
    }
   ],
   "source": [
    "#10. Try to add a and c. Now it should work. Assign the sum to varialbe \"d\". \n",
    "\n",
    "a"
   ]
  },
  {
   "cell_type": "code",
   "execution_count": 225,
   "metadata": {},
   "outputs": [
    {
     "data": {
      "text/plain": [
       "array([[[ 2,  1,  3, 10,  8],\n",
       "        [ 2,  2,  1,  1,  5],\n",
       "        [ 5,  4, 10,  2,  6]],\n",
       "\n",
       "       [[ 6, 10,  3,  6,  2],\n",
       "        [ 2,  7,  2, 10,  4],\n",
       "        [ 7,  9,  8,  2,  3]]])"
      ]
     },
     "execution_count": 225,
     "metadata": {},
     "output_type": "execute_result"
    }
   ],
   "source": [
    "d = a + c\n",
    "d"
   ]
  },
  {
   "cell_type": "code",
   "execution_count": 226,
   "metadata": {},
   "outputs": [
    {
     "name": "stdout",
     "output_type": "stream",
     "text": [
      "(2, 3, 5)\n",
      "(2, 3, 5)\n"
     ]
    }
   ],
   "source": [
    "# But why does it work now?\n",
    "\n",
    "# Because now they have the same shape\n",
    "print(np.shape(a))\n",
    "print(np.shape(c))"
   ]
  },
  {
   "cell_type": "code",
   "execution_count": 227,
   "metadata": {},
   "outputs": [
    {
     "name": "stdout",
     "output_type": "stream",
     "text": [
      "[[[1 0 2 9 7]\n",
      "  [1 1 0 0 4]\n",
      "  [4 3 9 1 5]]\n",
      "\n",
      " [[5 9 2 5 1]\n",
      "  [1 6 1 9 3]\n",
      "  [6 8 7 1 2]]]\n",
      "[[[ 2  1  3 10  8]\n",
      "  [ 2  2  1  1  5]\n",
      "  [ 5  4 10  2  6]]\n",
      "\n",
      " [[ 6 10  3  6  2]\n",
      "  [ 2  7  2 10  4]\n",
      "  [ 7  9  8  2  3]]]\n"
     ]
    }
   ],
   "source": [
    "#11. Print a and d. Notice the difference and relation of the two array in terms of the values? Explain.\n",
    "\n",
    "print(a)\n",
    "print(d)"
   ]
  },
  {
   "cell_type": "code",
   "execution_count": 228,
   "metadata": {},
   "outputs": [],
   "source": [
    "# They are almost the same, we have only added the \"b\" array to the \"a1\", so basically d = a1 + 1"
   ]
  },
  {
   "cell_type": "code",
   "execution_count": 229,
   "metadata": {},
   "outputs": [
    {
     "name": "stdout",
     "output_type": "stream",
     "text": [
      "[[[ 2  1  3 10  8]\n",
      "  [ 2  2  1  1  5]\n",
      "  [ 5  4 10  2  6]]\n",
      "\n",
      " [[ 6 10  3  6  2]\n",
      "  [ 2  7  2 10  4]\n",
      "  [ 7  9  8  2  3]]]\n",
      "[[[ 2  1  3 10  8]\n",
      "  [ 2  2  1  1  5]\n",
      "  [ 5  4 10  2  6]]\n",
      "\n",
      " [[ 6 10  3  6  2]\n",
      "  [ 2  7  2 10  4]\n",
      "  [ 7  9  8  2  3]]]\n"
     ]
    }
   ],
   "source": [
    "print(a + 1)\n",
    "print(d)"
   ]
  },
  {
   "cell_type": "code",
   "execution_count": 230,
   "metadata": {},
   "outputs": [
    {
     "data": {
      "text/plain": [
       "array([[[ True,  True,  True,  True,  True],\n",
       "        [ True,  True,  True,  True,  True],\n",
       "        [ True,  True,  True,  True,  True]],\n",
       "\n",
       "       [[ True,  True,  True,  True,  True],\n",
       "        [ True,  True,  True,  True,  True],\n",
       "        [ True,  True,  True,  True,  True]]])"
      ]
     },
     "execution_count": 230,
     "metadata": {},
     "output_type": "execute_result"
    }
   ],
   "source": [
    "d == a + 1"
   ]
  },
  {
   "cell_type": "code",
   "execution_count": 231,
   "metadata": {},
   "outputs": [
    {
     "data": {
      "text/plain": [
       "array([[[1, 0, 2, 9, 7],\n",
       "        [1, 1, 0, 0, 4],\n",
       "        [4, 3, 9, 1, 5]],\n",
       "\n",
       "       [[5, 9, 2, 5, 1],\n",
       "        [1, 6, 1, 9, 3],\n",
       "        [6, 8, 7, 1, 2]]])"
      ]
     },
     "execution_count": 231,
     "metadata": {},
     "output_type": "execute_result"
    }
   ],
   "source": [
    "#12. Multiply a and c. Assign the result to e.\n",
    "\n",
    "e = a*c\n",
    "e"
   ]
  },
  {
   "cell_type": "code",
   "execution_count": 232,
   "metadata": {},
   "outputs": [
    {
     "data": {
      "text/plain": [
       "array([[[ True,  True,  True,  True,  True],\n",
       "        [ True,  True,  True,  True,  True],\n",
       "        [ True,  True,  True,  True,  True]],\n",
       "\n",
       "       [[ True,  True,  True,  True,  True],\n",
       "        [ True,  True,  True,  True,  True],\n",
       "        [ True,  True,  True,  True,  True]]])"
      ]
     },
     "execution_count": 232,
     "metadata": {},
     "output_type": "execute_result"
    }
   ],
   "source": [
    "#13. Does e equal to a? Why or why not?\n",
    "\n",
    "e == a"
   ]
  },
  {
   "cell_type": "code",
   "execution_count": 233,
   "metadata": {},
   "outputs": [],
   "source": [
    "# Yes, because:\n",
    "# a = original random array\n",
    "# b = array of ones\n",
    "# c = b reshaped\n",
    "# e = a*c = 'a' array * 1"
   ]
  },
  {
   "cell_type": "code",
   "execution_count": 234,
   "metadata": {},
   "outputs": [
    {
     "name": "stdout",
     "output_type": "stream",
     "text": [
      "[[[ 2  1  3 10  8]\n",
      "  [ 2  2  1  1  5]\n",
      "  [ 5  4 10  2  6]]\n",
      "\n",
      " [[ 6 10  3  6  2]\n",
      "  [ 2  7  2 10  4]\n",
      "  [ 7  9  8  2  3]]]\n"
     ]
    }
   ],
   "source": [
    "#14. Identify the max, min, and mean values in d. Assign those values to variables \"d_max\", \"d_min\", and \"d_mean\"\n",
    "print(d)"
   ]
  },
  {
   "cell_type": "code",
   "execution_count": 291,
   "metadata": {},
   "outputs": [
    {
     "name": "stdout",
     "output_type": "stream",
     "text": [
      "Max: 10\n",
      "Min: 1\n",
      "Mean: 4.766666666666667\n"
     ]
    }
   ],
   "source": [
    "d_max = np.max(d)\n",
    "print(f\"Max: {d_max}\")\n",
    "d_min = np.min(d)\n",
    "print(f\"Min: {d_min}\")\n",
    "d_mean = np.mean(d)\n",
    "print(f\"Mean: {d_mean}\")"
   ]
  },
  {
   "cell_type": "code",
   "execution_count": 249,
   "metadata": {},
   "outputs": [
    {
     "data": {
      "text/plain": [
       "4.766666666666667"
      ]
     },
     "execution_count": 249,
     "metadata": {},
     "output_type": "execute_result"
    }
   ],
   "source": [
    "# The mean is technically the following, even though is longer and more complicated\n",
    "mitjana = sum(sum(sum(d)))/np.size(d)\n",
    "mitjana"
   ]
  },
  {
   "cell_type": "code",
   "execution_count": 255,
   "metadata": {},
   "outputs": [
    {
     "name": "stdout",
     "output_type": "stream",
     "text": [
      "[[[      0       0       0       0       0]\n",
      "  [      0       0       0       0       0]\n",
      "  [      0       0       0       0       0]]\n",
      "\n",
      " [[      0       0       0       0       0]\n",
      "  [      0       0       0       0       0]\n",
      "  [      0       0       0 6619243 8192116]]]\n"
     ]
    }
   ],
   "source": [
    "#15. Now we want to label the values in d. First create an empty array \"f\" with the same shape (i.e. 2x3x5) as d using `np.empty`.\n",
    "\n",
    "f1 = np.empty((2,3,5), dtype=int)\n",
    "print(f1)"
   ]
  },
  {
   "cell_type": "code",
   "execution_count": 257,
   "metadata": {},
   "outputs": [
    {
     "name": "stdout",
     "output_type": "stream",
     "text": [
      "[[[0 0 0 0 0]\n",
      "  [0 0 0 0 0]\n",
      "  [0 0 0 0 0]]\n",
      "\n",
      " [[0 0 0 0 0]\n",
      "  [0 0 0 0 0]\n",
      "  [0 0 0 0 0]]]\n"
     ]
    }
   ],
   "source": [
    "# it generates me a new array with the same size but with garbage values that has stored previously\n",
    "# so we can just create a new array with zeros\n",
    "\n",
    "f = np.zeros((2,3,5), dtype=int)\n",
    "print(f)"
   ]
  },
  {
   "cell_type": "code",
   "execution_count": 215,
   "metadata": {},
   "outputs": [],
   "source": [
    "#16. Populate the values in f. For each value in d, if it's larger than d_min but smaller than d_mean, assign 25 to the corresponding value in f.\n",
    "task= '''\n",
    "If a value in d is larger than d_mean but smaller than d_max, assign 75 to the corresponding value in f.\n",
    "If a value equals to d_mean, assign 50 to the corresponding value in f.\n",
    "Assign 0 to the corresponding value(s) in f for d_min in d.\n",
    "Assign 100 to the corresponding value(s) in f for d_max in d.\n",
    "In the end, f should have only the following values: 0, 25, 50, 75, and 100.\n",
    "Note: you don't have to use Numpy in this question.\n",
    "'''"
   ]
  },
  {
   "cell_type": "code",
   "execution_count": 272,
   "metadata": {},
   "outputs": [
    {
     "name": "stdout",
     "output_type": "stream",
     "text": [
      "[[[ 2  1  3 10  8]\n",
      "  [ 2  2  1  1  5]\n",
      "  [ 5  4 10  2  6]]\n",
      "\n",
      " [[ 6 10  3  6  2]\n",
      "  [ 2  7  2 10  4]\n",
      "  [ 7  9  8  2  3]]]\n"
     ]
    }
   ],
   "source": [
    "print(d)"
   ]
  },
  {
   "cell_type": "code",
   "execution_count": 289,
   "metadata": {},
   "outputs": [
    {
     "name": "stdout",
     "output_type": "stream",
     "text": [
      "Max: 10\n",
      "Min: 1\n",
      "Mean: 4.766666666666667\n"
     ]
    }
   ],
   "source": [
    "print(f\"Max: {d_max}\")\n",
    "print(f\"Min: {d_min}\")\n",
    "print(f\"Mean: {d_mean}\")"
   ]
  },
  {
   "cell_type": "code",
   "execution_count": 288,
   "metadata": {},
   "outputs": [
    {
     "name": "stdout",
     "output_type": "stream",
     "text": [
      "[[[ 25   0  25 100  75]\n",
      "  [ 25  25   0   0  75]\n",
      "  [ 75  25 100  25  75]]\n",
      "\n",
      " [[ 75 100  25  75  25]\n",
      "  [ 25  75  25 100  25]\n",
      "  [ 75  75  75  25  25]]]\n"
     ]
    }
   ],
   "source": [
    "f[d < d_mean] = 25\n",
    "f[d > d_mean] = 75\n",
    "f[d == d_max] = 100\n",
    "f[d == d_mean] = 50\n",
    "f[d == d_min] = 0\n",
    "print(f)"
   ]
  },
  {
   "cell_type": "code",
   "execution_count": 295,
   "metadata": {},
   "outputs": [],
   "source": [
    "#17. Print d and f. Do you have your expected f?\n",
    "task='''\n",
    "For instance, if your d is:\n",
    "array([[[1.85836099, 1.67064465, 1.62576044, 1.40243961, 1.88454931],\n",
    "        [1.75354326, 1.69403643, 1.36729252, 1.61415071, 1.12104981],\n",
    "        [1.72201435, 1.1862918 , 1.87078449, 1.7726778 , 1.88180042]],\n",
    "\n",
    "       [[1.44747908, 1.31673383, 1.02000951, 1.52218947, 1.97066381],\n",
    "        [1.79129243, 1.74983003, 1.96028037, 1.85166831, 1.65450881],\n",
    "        [1.18068344, 1.9587381 , 1.00656599, 1.93402165, 1.73514584]]])\n",
    "\n",
    "Your f should be:\n",
    "array([[[ 75.,  75.,  75.,  25.,  75.],\n",
    "        [ 75.,  75.,  25.,  25.,  25.],\n",
    "        [ 75.,  25.,  75.,  75.,  75.]],\n",
    "\n",
    "       [[ 25.,  25.,  25.,  25., 100.],\n",
    "        [ 75.,  75.,  75.,  75.,  75.],\n",
    "        [ 25.,  75.,   0.,  75.,  75.]]])\n",
    "'''"
   ]
  },
  {
   "cell_type": "code",
   "execution_count": 297,
   "metadata": {},
   "outputs": [
    {
     "data": {
      "text/plain": [
       "[[[1.85836099, 1.67064465, 1.62576044, 1.40243961, 1.88454931],\n",
       "  [1.75354326, 1.69403643, 1.36729252, 1.61415071, 1.12104981],\n",
       "  [1.72201435, 1.1862918, 1.87078449, 1.7726778, 1.88180042]],\n",
       " [[1.44747908, 1.31673383, 1.02000951, 1.52218947, 1.97066381],\n",
       "  [1.79129243, 1.74983003, 1.96028037, 1.85166831, 1.65450881],\n",
       "  [1.18068344, 1.9587381, 1.00656599, 1.93402165, 1.73514584]]]"
      ]
     },
     "execution_count": 297,
     "metadata": {},
     "output_type": "execute_result"
    }
   ],
   "source": [
    "d = ([[[1.85836099, 1.67064465, 1.62576044, 1.40243961, 1.88454931],\n",
    "        [1.75354326, 1.69403643, 1.36729252, 1.61415071, 1.12104981],\n",
    "        [1.72201435, 1.1862918 , 1.87078449, 1.7726778 , 1.88180042]],\n",
    "\n",
    "       [[1.44747908, 1.31673383, 1.02000951, 1.52218947, 1.97066381],\n",
    "        [1.79129243, 1.74983003, 1.96028037, 1.85166831, 1.65450881],\n",
    "        [1.18068344, 1.9587381 , 1.00656599, 1.93402165, 1.73514584]]])\n",
    "d\n"
   ]
  },
  {
   "cell_type": "code",
   "execution_count": 301,
   "metadata": {},
   "outputs": [
    {
     "name": "stdout",
     "output_type": "stream",
     "text": [
      "Max: 1.97066381\n",
      "Min: 1.00656599\n",
      "Mean: 1.6175069086666667\n"
     ]
    }
   ],
   "source": [
    "d_max = np.max(d)\n",
    "print(f\"Max: {d_max}\")\n",
    "d_min = np.min(d)\n",
    "print(f\"Min: {d_min}\")\n",
    "d_mean = np.mean(d)\n",
    "print(f\"Mean: {d_mean}\")"
   ]
  },
  {
   "cell_type": "code",
   "execution_count": 310,
   "metadata": {},
   "outputs": [
    {
     "name": "stdout",
     "output_type": "stream",
     "text": [
      "[[[ 75  75  75  25  75]\n",
      "  [ 75  75  25  25  25]\n",
      "  [ 75  25  75  75  75]]\n",
      "\n",
      " [[ 25  25  25  25 100]\n",
      "  [ 75  75  75  75  75]\n",
      "  [ 25  75   0  75  75]]]\n"
     ]
    }
   ],
   "source": [
    "f[d < d_mean] = 25\n",
    "f[d > d_mean] = 75\n",
    "f[d == d_max] = 100\n",
    "f[d == d_mean] = 50\n",
    "f[d == d_min] = 0\n",
    "print(f)\n",
    "\n",
    "damn ='''\n",
    "Your f should be:\n",
    "array([[[ 75.,  75.,  75.,  25.,  75.],\n",
    "        [ 75.,  75.,  25.,  25.,  25.],\n",
    "        [ 75.,  25.,  75.,  75.,  75.]],\n",
    "\n",
    "       [[ 25.,  25.,  25.,  25., 100.],\n",
    "        [ 75.,  75.,  75.,  75.,  75.],\n",
    "        [ 25.,  75.,   0.,  75.,  75.]]])\n",
    "'''"
   ]
  },
  {
   "cell_type": "code",
   "execution_count": 313,
   "metadata": {},
   "outputs": [],
   "source": [
    "#18. Bonus question: instead of using numbers (i.e. 0, 25, 50, 75, and 100), how to use string values \n",
    "enunciat = \"\"\"\n",
    "(\"A\", \"B\", \"C\", \"D\", and \"E\") to label the array elements? You are expecting the result to be:\n",
    "array([[[ 'D',  'D',  'D',  'B',  'D'],\n",
    "        [ 'D',  'D',  'B',  'B',  'B'],\n",
    "        [ 'D',  'B',  'D',  'D',  'D']],\n",
    "\n",
    "       [[ 'B',  'B',  'B',  'B',  'E'],\n",
    "        [ 'D',  'D',  'D',  'D',  'D'],\n",
    "        [ 'B',  'D',   'A',  'D', 'D']]])\n",
    "Again, you don't need Numpy in this question.\n",
    "\"\"\""
   ]
  },
  {
   "cell_type": "code",
   "execution_count": 340,
   "metadata": {},
   "outputs": [],
   "source": [
    "g = np.zeros((2,3,5), dtype='<U5')"
   ]
  },
  {
   "cell_type": "code",
   "execution_count": 342,
   "metadata": {},
   "outputs": [
    {
     "name": "stdout",
     "output_type": "stream",
     "text": [
      "[[['D' 'D' 'D' 'B' 'D']\n",
      "  ['D' 'D' 'B' 'B' 'B']\n",
      "  ['D' 'B' 'D' 'D' 'D']]\n",
      "\n",
      " [['B' 'B' 'B' 'B' 'E']\n",
      "  ['D' 'D' 'D' 'D' 'D']\n",
      "  ['B' 'D' 'A' 'D' 'D']]]\n"
     ]
    }
   ],
   "source": [
    "g[f == 25] = 'B'\n",
    "g[f == 75] = 'D'\n",
    "g[f == 100] = 'E'\n",
    "g[f == 0] = 'A'\n",
    "print(g)"
   ]
  }
 ],
 "metadata": {
  "kernelspec": {
   "display_name": "base",
   "language": "python",
   "name": "python3"
  },
  "language_info": {
   "codemirror_mode": {
    "name": "ipython",
    "version": 3
   },
   "file_extension": ".py",
   "mimetype": "text/x-python",
   "name": "python",
   "nbconvert_exporter": "python",
   "pygments_lexer": "ipython3",
   "version": "3.12.5"
  }
 },
 "nbformat": 4,
 "nbformat_minor": 2
}
